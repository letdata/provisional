{
 "cells": [
  {
   "cell_type": "code",
   "execution_count": 1,
   "metadata": {
    "colab": {},
    "colab_type": "code",
    "id": "0tcJvKE1ghik"
   },
   "outputs": [],
   "source": [
    "import pandas as pd\n",
    "import numpy as np\n",
    "from matplotlib import pyplot as plt\n",
    "import seaborn as sns\n",
    "sns.set()"
   ]
  },
  {
   "cell_type": "code",
   "execution_count": 2,
   "metadata": {
    "colab": {
     "base_uri": "https://localhost:8080/",
     "height": 68
    },
    "colab_type": "code",
    "id": "zO9P8FnTGw8z",
    "outputId": "25f3a7bc-0a9c-430d-d4f8-e9b70ff86d4f"
   },
   "outputs": [
    {
     "name": "stdout",
     "output_type": "stream",
     "text": [
      "[4, 8, 9, 2, 0, -1, 400, -18, 3]\n",
      "[]\n",
      "[4, 8, 9, 2, 400, 3]\n"
     ]
    }
   ],
   "source": [
    "# list comprehensions\n",
    "lista = [4, 8, 9, 2, 0, -1, 400, -18, 3]\n",
    "l = []\n",
    "\n",
    "print(lista)\n",
    "print(l)\n",
    "[l.append(L) for L in lista if L > 0]\n",
    "print(l)"
   ]
  },
  {
   "cell_type": "code",
   "execution_count": 3,
   "metadata": {
    "colab": {},
    "colab_type": "code",
    "id": "telqCdipGG5-"
   },
   "outputs": [],
   "source": [
    "from_dixio = pd.DataFrame({\n",
    "    'color': {1: 'red', 2: 'blue', 3: 'brown'}\n",
    "    , 'size': {1: None, 2: 'L', 3: 'S'}\n",
    "    , 'quantity': {1: 0, 2: 30, 3: None}\n",
    "    , 'id': {1: 39438, 2: 394348, 3: 394394}\n",
    "})"
   ]
  },
  {
   "cell_type": "code",
   "execution_count": 4,
   "metadata": {
    "colab": {
     "base_uri": "https://localhost:8080/",
     "height": 173
    },
    "colab_type": "code",
    "id": "W8JOxZ0oJiV7",
    "outputId": "278a4970-0e1d-4489-8db4-b35a9c9868b7"
   },
   "outputs": [
    {
     "data": {
      "text/html": [
       "<div>\n",
       "<style scoped>\n",
       "    .dataframe tbody tr th:only-of-type {\n",
       "        vertical-align: middle;\n",
       "    }\n",
       "\n",
       "    .dataframe tbody tr th {\n",
       "        vertical-align: top;\n",
       "    }\n",
       "\n",
       "    .dataframe thead th {\n",
       "        text-align: right;\n",
       "    }\n",
       "</style>\n",
       "<table border=\"1\" class=\"dataframe\">\n",
       "  <thead>\n",
       "    <tr style=\"text-align: right;\">\n",
       "      <th></th>\n",
       "      <th>color</th>\n",
       "      <th>size</th>\n",
       "      <th>quantity</th>\n",
       "    </tr>\n",
       "    <tr>\n",
       "      <th>id</th>\n",
       "      <th></th>\n",
       "      <th></th>\n",
       "      <th></th>\n",
       "    </tr>\n",
       "  </thead>\n",
       "  <tbody>\n",
       "    <tr>\n",
       "      <th>39438</th>\n",
       "      <td>red</td>\n",
       "      <td>None</td>\n",
       "      <td>0.0</td>\n",
       "    </tr>\n",
       "    <tr>\n",
       "      <th>394348</th>\n",
       "      <td>blue</td>\n",
       "      <td>L</td>\n",
       "      <td>30.0</td>\n",
       "    </tr>\n",
       "    <tr>\n",
       "      <th>394394</th>\n",
       "      <td>brown</td>\n",
       "      <td>S</td>\n",
       "      <td>NaN</td>\n",
       "    </tr>\n",
       "  </tbody>\n",
       "</table>\n",
       "</div>"
      ],
      "text/plain": [
       "        color  size  quantity\n",
       "id                           \n",
       "39438     red  None       0.0\n",
       "394348   blue     L      30.0\n",
       "394394  brown     S       NaN"
      ]
     },
     "execution_count": 4,
     "metadata": {},
     "output_type": "execute_result"
    }
   ],
   "source": [
    "snc = from_dixio.set_index('id'); snc"
   ]
  },
  {
   "cell_type": "code",
   "execution_count": 5,
   "metadata": {
    "colab": {
     "base_uri": "https://localhost:8080/",
     "height": 142
    },
    "colab_type": "code",
    "id": "8bhZmKHXJhDl",
    "outputId": "c4ae8098-f9ef-4c81-8583-b6f07f68b30b"
   },
   "outputs": [
    {
     "data": {
      "text/html": [
       "<div>\n",
       "<style scoped>\n",
       "    .dataframe tbody tr th:only-of-type {\n",
       "        vertical-align: middle;\n",
       "    }\n",
       "\n",
       "    .dataframe tbody tr th {\n",
       "        vertical-align: top;\n",
       "    }\n",
       "\n",
       "    .dataframe thead th {\n",
       "        text-align: right;\n",
       "    }\n",
       "</style>\n",
       "<table border=\"1\" class=\"dataframe\">\n",
       "  <thead>\n",
       "    <tr style=\"text-align: right;\">\n",
       "      <th></th>\n",
       "      <th>index</th>\n",
       "      <th>color</th>\n",
       "      <th>size</th>\n",
       "      <th>quantity</th>\n",
       "      <th>id</th>\n",
       "    </tr>\n",
       "  </thead>\n",
       "  <tbody>\n",
       "    <tr>\n",
       "      <th>0</th>\n",
       "      <td>2</td>\n",
       "      <td>blue</td>\n",
       "      <td>L</td>\n",
       "      <td>30.0</td>\n",
       "      <td>394348</td>\n",
       "    </tr>\n",
       "    <tr>\n",
       "      <th>1</th>\n",
       "      <td>3</td>\n",
       "      <td>brown</td>\n",
       "      <td>S</td>\n",
       "      <td>NaN</td>\n",
       "      <td>394394</td>\n",
       "    </tr>\n",
       "    <tr>\n",
       "      <th>2</th>\n",
       "      <td>1</td>\n",
       "      <td>red</td>\n",
       "      <td>None</td>\n",
       "      <td>0.0</td>\n",
       "      <td>39438</td>\n",
       "    </tr>\n",
       "  </tbody>\n",
       "</table>\n",
       "</div>"
      ],
      "text/plain": [
       "   index  color  size  quantity      id\n",
       "0      2   blue     L      30.0  394348\n",
       "1      3  brown     S       NaN  394394\n",
       "2      1    red  None       0.0   39438"
      ]
     },
     "execution_count": 5,
     "metadata": {},
     "output_type": "execute_result"
    }
   ],
   "source": [
    "snc_sort = from_dixio.sort_values(by='color')\n",
    "\n",
    "# ---------------------------------------------------------------------\n",
    "# _reset_index_\n",
    "# this will create a new index, in this case based in the new sort\n",
    "# but will leave behind the old index as a new column called \"index\"\n",
    "# ---------------------------------------------------------------------\n",
    "snc_sort = snc_sort.reset_index(); snc_sort"
   ]
  }
 ],
 "metadata": {
  "colab": {
   "collapsed_sections": [],
   "name": "890_scratchpad_20191005",
   "provenance": []
  },
  "kernelspec": {
   "display_name": "Python 3",
   "language": "python",
   "name": "python3"
  },
  "language_info": {
   "codemirror_mode": {
    "name": "ipython",
    "version": 3
   },
   "file_extension": ".py",
   "mimetype": "text/x-python",
   "name": "python",
   "nbconvert_exporter": "python",
   "pygments_lexer": "ipython3",
   "version": "3.7.4"
  }
 },
 "nbformat": 4,
 "nbformat_minor": 4
}
